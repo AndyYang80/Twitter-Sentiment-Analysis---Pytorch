{
 "cells": [
  {
   "cell_type": "code",
   "execution_count": 1,
   "id": "7a5262b0-9118-41df-a6c6-a4fa003f59ad",
   "metadata": {
    "tags": []
   },
   "outputs": [],
   "source": [
    "from train_test import *\n",
    "from load_data import *\n",
    "\n",
    "\n",
    "# import math"
   ]
  },
  {
   "cell_type": "code",
   "execution_count": null,
   "id": "ed761619",
   "metadata": {},
   "outputs": [
    {
     "name": "stdout",
     "output_type": "stream",
     "text": [
      "Generating Dataloaders...\n"
     ]
    },
    {
     "name": "stderr",
     "output_type": "stream",
     "text": [
      "c:\\Users\\andy8\\anaconda3\\envs\\stock_trade\\lib\\site-packages\\pandas\\core\\ops\\array_ops.py:75: FutureWarning: elementwise comparison failed; returning scalar instead, but in the future will perform elementwise comparison\n",
      "  result = libops.scalar_compare(x.ravel(), y, op)\n",
      "c:\\Users\\andy8\\side projects\\Sentiment Analysis\\helper.py:75: SettingWithCopyWarning: \n",
      "A value is trying to be set on a copy of a slice from a DataFrame.\n",
      "Try using .loc[row_indexer,col_indexer] = value instead\n",
      "\n",
      "See the caveats in the documentation: https://pandas.pydata.org/pandas-docs/stable/user_guide/indexing.html#returning-a-view-versus-a-copy\n",
      "  df['Tokens'] = df[\"Tokens\"].apply(pad)\n"
     ]
    },
    {
     "name": "stdout",
     "output_type": "stream",
     "text": [
      "loading model...\n",
      "beginning training...\n",
      "Epoch 1\n",
      "train_loss : 1.24110182224499\n",
      "val_loss: 1.1289086265803485\n",
      "train_accuracy : 45.32965049104563\n",
      "valid accuracy: 54.171478060046184\n",
      "Validation loss decreased (inf --> 1.128909).  Saving model ...\n",
      "Epoch 2\n",
      "train_loss : 0.9874068877467663\n",
      "val_loss: 0.9731546320003945\n",
      "train_accuracy : 60.85896880415944\n",
      "valid accuracy: 60.56581986143187\n",
      "Validation loss decreased (1.128909 --> 0.973155).  Saving model ...\n",
      "Epoch 3\n",
      "train_loss : 0.8271941786759992\n",
      "val_loss: 0.8657022179136651\n",
      "train_accuracy : 68.39074234546504\n",
      "valid accuracy: 67.27771362586606\n",
      "Validation loss decreased (0.973155 --> 0.865702).  Saving model ...\n",
      "Epoch 4\n",
      "train_loss : 0.7029940105849852\n",
      "val_loss: 0.8062698509346254\n",
      "train_accuracy : 74.39160889659156\n",
      "valid accuracy: 70.38827944572749\n",
      "Validation loss decreased (0.865702 --> 0.806270).  Saving model ...\n",
      "Epoch 5\n",
      "train_loss : 0.6440697294428024\n",
      "val_loss: 0.7792192733143274\n",
      "train_accuracy : 76.77462449451184\n",
      "valid accuracy: 71.75952655889145\n",
      "Validation loss decreased (0.806270 --> 0.779219).  Saving model ...\n"
     ]
    },
    {
     "data": {
      "text/html": [
       "<div>\n",
       "<style scoped>\n",
       "    .dataframe tbody tr th:only-of-type {\n",
       "        vertical-align: middle;\n",
       "    }\n",
       "\n",
       "    .dataframe tbody tr th {\n",
       "        vertical-align: top;\n",
       "    }\n",
       "\n",
       "    .dataframe thead th {\n",
       "        text-align: right;\n",
       "    }\n",
       "</style>\n",
       "<table border=\"1\" class=\"dataframe\">\n",
       "  <thead>\n",
       "    <tr style=\"text-align: right;\">\n",
       "      <th></th>\n",
       "      <th>Epoch</th>\n",
       "      <th>Train Loss</th>\n",
       "      <th>Validation Loss</th>\n",
       "      <th>Train Accuracy</th>\n",
       "      <th>Validation Accuracy</th>\n",
       "    </tr>\n",
       "  </thead>\n",
       "  <tbody>\n",
       "    <tr>\n",
       "      <th>0</th>\n",
       "      <td>0</td>\n",
       "      <td>1.241102</td>\n",
       "      <td>1.128909</td>\n",
       "      <td>45.329650</td>\n",
       "      <td>54.171478</td>\n",
       "    </tr>\n",
       "    <tr>\n",
       "      <th>1</th>\n",
       "      <td>1</td>\n",
       "      <td>0.987407</td>\n",
       "      <td>0.973155</td>\n",
       "      <td>60.858969</td>\n",
       "      <td>60.565820</td>\n",
       "    </tr>\n",
       "    <tr>\n",
       "      <th>2</th>\n",
       "      <td>2</td>\n",
       "      <td>0.827194</td>\n",
       "      <td>0.865702</td>\n",
       "      <td>68.390742</td>\n",
       "      <td>67.277714</td>\n",
       "    </tr>\n",
       "    <tr>\n",
       "      <th>3</th>\n",
       "      <td>3</td>\n",
       "      <td>0.702994</td>\n",
       "      <td>0.806270</td>\n",
       "      <td>74.391609</td>\n",
       "      <td>70.388279</td>\n",
       "    </tr>\n",
       "    <tr>\n",
       "      <th>4</th>\n",
       "      <td>4</td>\n",
       "      <td>0.644070</td>\n",
       "      <td>0.779219</td>\n",
       "      <td>76.774624</td>\n",
       "      <td>71.759527</td>\n",
       "    </tr>\n",
       "  </tbody>\n",
       "</table>\n",
       "</div>"
      ],
      "text/plain": [
       "   Epoch  Train Loss  Validation Loss  Train Accuracy  Validation Accuracy\n",
       "0      0    1.241102         1.128909       45.329650            54.171478\n",
       "1      1    0.987407         0.973155       60.858969            60.565820\n",
       "2      2    0.827194         0.865702       68.390742            67.277714\n",
       "3      3    0.702994         0.806270       74.391609            70.388279\n",
       "4      4    0.644070         0.779219       76.774624            71.759527"
      ]
     },
     "execution_count": 5,
     "metadata": {},
     "output_type": "execute_result"
    }
   ],
   "source": [
    "train_data = preprocess_data(\"twitter_training.csv\")\n",
    "train_corpus = load_train_corpus(train_data)\n",
    "train_model(model_type = \"RNN\", train_data = train_data, train_corpus = train_corpus, epochs = 5)\n"
   ]
  },
  {
   "cell_type": "code",
   "execution_count": 2,
   "id": "a3357f04",
   "metadata": {},
   "outputs": [
    {
     "name": "stderr",
     "output_type": "stream",
     "text": [
      "c:\\Users\\andy8\\anaconda3\\envs\\stock_trade\\lib\\site-packages\\pandas\\core\\ops\\array_ops.py:75: FutureWarning: elementwise comparison failed; returning scalar instead, but in the future will perform elementwise comparison\n",
      "  result = libops.scalar_compare(x.ravel(), y, op)\n"
     ]
    },
    {
     "name": "stdout",
     "output_type": "stream",
     "text": [
      "The test accuacy is: 0.7879098360655737\n"
     ]
    }
   ],
   "source": [
    "train_data = preprocess_data(\"twitter_training.csv\")\n",
    "train_corpus = load_train_corpus(train_data)\n",
    "test_data = preprocess_data(\"twitter_validation.csv\")\n",
    "test_model(model_type=\"RNN\", test_data = test_data, train_corpus = train_corpus)"
   ]
  },
  {
   "cell_type": "code",
   "execution_count": null,
   "id": "0b118a09",
   "metadata": {},
   "outputs": [],
   "source": []
  }
 ],
 "metadata": {
  "kernelspec": {
   "display_name": "stock_trade",
   "language": "python",
   "name": "python3"
  },
  "language_info": {
   "codemirror_mode": {
    "name": "ipython",
    "version": 3
   },
   "file_extension": ".py",
   "mimetype": "text/x-python",
   "name": "python",
   "nbconvert_exporter": "python",
   "pygments_lexer": "ipython3",
   "version": "3.10.9"
  }
 },
 "nbformat": 4,
 "nbformat_minor": 5
}
